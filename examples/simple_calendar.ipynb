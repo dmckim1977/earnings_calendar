{
 "cells": [
  {
   "cell_type": "code",
   "id": "initial_id",
   "metadata": {
    "collapsed": true,
    "ExecuteTime": {
     "end_time": "2024-09-23T22:57:34.475324Z",
     "start_time": "2024-09-23T22:57:34.468519Z"
    }
   },
   "source": [
    "# Put fmpeconomiccalendar module in PYTHONPATH\n",
    "import sys\n",
    "\n",
    "sys.path.append('../src')"
   ],
   "outputs": [],
   "execution_count": 1
  },
  {
   "metadata": {
    "ExecuteTime": {
     "end_time": "2024-09-23T22:57:37.007740Z",
     "start_time": "2024-09-23T22:57:35.788558Z"
    }
   },
   "cell_type": "code",
   "source": "from src.earningscalendar import newsletter_earnings",
   "id": "c805bccf6cde03d5",
   "outputs": [],
   "execution_count": 2
  },
  {
   "metadata": {
    "ExecuteTime": {
     "end_time": "2024-09-23T22:57:37.485740Z",
     "start_time": "2024-09-23T22:57:37.481431Z"
    }
   },
   "cell_type": "code",
   "source": "publish_date = \"2024-09-27\"",
   "id": "f239c5e92b7a353f",
   "outputs": [],
   "execution_count": 3
  },
  {
   "metadata": {
    "ExecuteTime": {
     "end_time": "2024-09-23T22:57:38.661583Z",
     "start_time": "2024-09-23T22:57:38.414058Z"
    }
   },
   "cell_type": "code",
   "source": "am, pm = newsletter_earnings(publish_date)",
   "id": "267ef630778b2780",
   "outputs": [
    {
     "name": "stdout",
     "output_type": "stream",
     "text": [
      "Empty DataFrame\n",
      "Columns: []\n",
      "Index: []\n"
     ]
    }
   ],
   "execution_count": 4
  },
  {
   "metadata": {
    "ExecuteTime": {
     "end_time": "2024-09-23T22:57:40.016549Z",
     "start_time": "2024-09-23T22:57:40.006633Z"
    }
   },
   "cell_type": "code",
   "source": "am",
   "id": "9edfc11484064e3",
   "outputs": [
    {
     "data": {
      "text/plain": [
       "''"
      ]
     },
     "execution_count": 5,
     "metadata": {},
     "output_type": "execute_result"
    }
   ],
   "execution_count": 5
  },
  {
   "metadata": {
    "ExecuteTime": {
     "end_time": "2024-09-23T22:57:40.823146Z",
     "start_time": "2024-09-23T22:57:40.817957Z"
    }
   },
   "cell_type": "code",
   "source": "pm",
   "id": "3926d9f2aa1a3f83",
   "outputs": [
    {
     "data": {
      "text/plain": [
       "''"
      ]
     },
     "execution_count": 6,
     "metadata": {},
     "output_type": "execute_result"
    }
   ],
   "execution_count": 6
  },
  {
   "metadata": {},
   "cell_type": "code",
   "outputs": [],
   "execution_count": null,
   "source": "",
   "id": "1bd5876aeb2da9d0"
  }
 ],
 "metadata": {
  "kernelspec": {
   "display_name": "Python 3",
   "language": "python",
   "name": "python3"
  },
  "language_info": {
   "codemirror_mode": {
    "name": "ipython",
    "version": 2
   },
   "file_extension": ".py",
   "mimetype": "text/x-python",
   "name": "python",
   "nbconvert_exporter": "python",
   "pygments_lexer": "ipython2",
   "version": "2.7.6"
  }
 },
 "nbformat": 4,
 "nbformat_minor": 5
}
