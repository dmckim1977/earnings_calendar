{
 "cells": [
  {
   "cell_type": "code",
   "id": "initial_id",
   "metadata": {
    "collapsed": true,
    "ExecuteTime": {
     "end_time": "2024-09-23T21:42:19.897507Z",
     "start_time": "2024-09-23T21:42:19.893506Z"
    }
   },
   "source": [
    "# Put fmpeconomiccalendar module in PYTHONPATH\n",
    "import sys\n",
    "\n",
    "sys.path.append('../src')"
   ],
   "outputs": [],
   "execution_count": 2
  },
  {
   "metadata": {
    "ExecuteTime": {
     "end_time": "2024-09-23T21:42:22.737004Z",
     "start_time": "2024-09-23T21:42:21.635025Z"
    }
   },
   "cell_type": "code",
   "source": "from src.earningscalendar import newsletter_earnings",
   "id": "c805bccf6cde03d5",
   "outputs": [],
   "execution_count": 3
  },
  {
   "metadata": {
    "ExecuteTime": {
     "end_time": "2024-09-23T21:42:23.308568Z",
     "start_time": "2024-09-23T21:42:23.304382Z"
    }
   },
   "cell_type": "code",
   "source": "publish_date = \"2024-09-24\"",
   "id": "f239c5e92b7a353f",
   "outputs": [],
   "execution_count": 4
  },
  {
   "metadata": {
    "ExecuteTime": {
     "end_time": "2024-09-23T21:42:24.692795Z",
     "start_time": "2024-09-23T21:42:24.399586Z"
    }
   },
   "cell_type": "code",
   "source": "am, pm = newsletter_earnings(publish_date)",
   "id": "267ef630778b2780",
   "outputs": [
    {
     "name": "stdout",
     "output_type": "stream",
     "text": [
      "   importance symbol        date      time                    title emoji\n",
      "0           1   CYTO  2024-09-24  08:00:00    Altamira Therapeutics   NaN\n",
      "1           3   SFIX  2024-09-24  16:05:00               Stitch Fix   NaN\n",
      "2           3    AZO  2024-09-24  06:55:00                 AutoZone     ⚙\n",
      "3           3    KBH  2024-09-24  16:10:00                  KB Home   NaN\n",
      "4           3    THO  2024-09-24  06:30:00          Thor Industries   NaN\n",
      "5           2   PRGS  2024-09-24  16:15:00        Progress Software   NaN\n",
      "6           2    WOR  2024-09-24  16:15:00  Worthington Enterprises   NaN\n"
     ]
    }
   ],
   "execution_count": 5
  },
  {
   "metadata": {
    "ExecuteTime": {
     "end_time": "2024-09-23T21:42:25.520139Z",
     "start_time": "2024-09-23T21:42:25.512104Z"
    }
   },
   "cell_type": "code",
   "source": "am",
   "id": "9edfc11484064e3",
   "outputs": [
    {
     "data": {
      "text/plain": [
       "'AZO, THO, CYTO'"
      ]
     },
     "execution_count": 6,
     "metadata": {},
     "output_type": "execute_result"
    }
   ],
   "execution_count": 6
  },
  {
   "metadata": {
    "ExecuteTime": {
     "end_time": "2024-09-23T21:42:26.184570Z",
     "start_time": "2024-09-23T21:42:26.178049Z"
    }
   },
   "cell_type": "code",
   "source": "pm",
   "id": "3926d9f2aa1a3f83",
   "outputs": [
    {
     "data": {
      "text/plain": [
       "'SFIX, KBH, PRGS, WOR'"
      ]
     },
     "execution_count": 7,
     "metadata": {},
     "output_type": "execute_result"
    }
   ],
   "execution_count": 7
  },
  {
   "metadata": {},
   "cell_type": "code",
   "outputs": [],
   "execution_count": null,
   "source": "",
   "id": "1bd5876aeb2da9d0"
  }
 ],
 "metadata": {
  "kernelspec": {
   "display_name": "Python 3",
   "language": "python",
   "name": "python3"
  },
  "language_info": {
   "codemirror_mode": {
    "name": "ipython",
    "version": 2
   },
   "file_extension": ".py",
   "mimetype": "text/x-python",
   "name": "python",
   "nbconvert_exporter": "python",
   "pygments_lexer": "ipython2",
   "version": "2.7.6"
  }
 },
 "nbformat": 4,
 "nbformat_minor": 5
}
